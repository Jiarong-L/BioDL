{
 "cells": [
  {
   "cell_type": "markdown",
   "id": "c4133ffb-afb6-4274-904a-75ac6472ef4e",
   "metadata": {},
   "source": [
    "## Load PDB as Graph\n",
    "\n",
    "- edge: [C-C bound]\n",
    "- node: [coord,aa]\n",
    "\n",
    "or refer to: https://blog.csdn.net/C20180602_csq/article/details/138327140\n",
    "\n",
    "Todo: Let the graph fully connected, and add features to edge: [L2_distance_of_ATOM_C > ??, C-C bound]"
   ]
  },
  {
   "cell_type": "code",
   "execution_count": 1,
   "id": "8c92b30a-5f84-4ffa-979c-cf7889055adc",
   "metadata": {},
   "outputs": [],
   "source": [
    "from Bio.PDB.PDBParser import PDBParser\n",
    "import numpy as np\n",
    "import pandas as pd\n",
    "import scipy.linalg as linalg\n",
    "import torch\n",
    "import dgl\n",
    "import os\n",
    "p = PDBParser(PERMISSIVE=1)\n",
    "\n",
    "SHORTEN_dict= {'VAL':'V', 'ILE':'I', 'LEU':'L', 'GLU':'E', 'GLN':'Q',\n",
    "            'ASP':'D', 'ASN':'N', 'HIS':'H', 'TRP':'W', 'PHE':'F', \n",
    "            'TYR':'Y', 'ARG':'R', 'LYS':'K', 'SER':'S', 'THR':'T', \n",
    "            'MET':'M', 'ALA':'A', 'GLY':'G', 'PRO':'P', 'CYS':'C'}   ## BZJX*\n",
    "\n",
    "def load_embd_dict(AA_selc = list(''.join(SHORTEN_dict.values()) + '*'), file = \"BLOSUM62.txt\"):\n",
    "    df = pd.read_csv(\"BLOSUM62.txt\", sep=\"\\\\s+\", index_col=0)\n",
    "    df = df[AA_selc].T[AA_selc].T\n",
    "    df = df.sort_index().loc[:, df.columns.sort_values()]       ## Sort cols and rows by name\n",
    "    w, v = linalg.eigh(np.exp2(df))\n",
    "    v = v * np.sign(v[0])              ## v[:,i] is i-th eigen vector\n",
    "    v = v @ np.diag(w**0.5)            ## scale v by eigen value\n",
    "    return dict(zip(df.columns.values,v.T))\n",
    "\n",
    "EMBD_dict = load_embd_dict()\n",
    "\n",
    "\n",
    "def embedAA(aa):\n",
    "    if aa in SHORTEN_dict.keys():\n",
    "        return EMBD_dict[SHORTEN_dict[aa]]\n",
    "    else:\n",
    "        return EMBD_dict['*']\n",
    "\n",
    "def load_pdb(p,id,file):\n",
    "    model = p.get_structure(id, file).get_models().__next__()  ## Get the first model from the structure\n",
    "    chains = {}\n",
    "    for chain in model.get_chains():           ## Usually only one chain as: 'COMPND   3 CHAIN: A'\n",
    "        id = chain.get_id()\n",
    "        chains[id] = {\n",
    "            'aa': [],\n",
    "            'coord': []\n",
    "        }\n",
    "        for residue in chain.get_residues(): \n",
    "            aa = residue.get_resname()\n",
    "            coord = residue['C'].get_coord()\n",
    "            chains[id]['aa'].append(aa)\n",
    "            chains[id]['coord'].append(coord)\n",
    "    return chains\n",
    "\n",
    "def chains_to_graph(chains):\n",
    "    g = dgl.graph([])\n",
    "    for id in chains.keys():\n",
    "        chain = chains[id]\n",
    "        pos = 0\n",
    "        for (aa,coord) in zip(chain['aa'],chain['coord']):\n",
    "            g.add_nodes(1, {\n",
    "                'coord': torch.tensor(coord).unsqueeze(0), \n",
    "                'aa': torch.tensor(embedAA(aa)).unsqueeze(0)\n",
    "            })\n",
    "            if pos > 0:\n",
    "                g.add_edges(torch.tensor([pos-1]), torch.tensor([pos]), {\n",
    "                    'C-C': torch.tensor([1])         ## others can be S-S bonds / H bounds, etc.  This time we don't calcuate them\n",
    "                })\n",
    "            pos += 1\n",
    "    return g\n",
    "\n"
   ]
  },
  {
   "cell_type": "code",
   "execution_count": null,
   "id": "2610023a-1cdd-4326-9366-bb4e14bb4b3b",
   "metadata": {},
   "outputs": [],
   "source": []
  },
  {
   "cell_type": "code",
   "execution_count": 2,
   "id": "71465f16-3569-4758-ad7d-fd6eaa8f99d3",
   "metadata": {},
   "outputs": [
    {
     "data": {
      "text/plain": [
       "('AF-A0A016HVY8-F1',\n",
       " Graph(num_nodes=226, num_edges=225,\n",
       "       ndata_schemes={'coord': Scheme(shape=(3,), dtype=torch.float32), 'aa': Scheme(shape=(21,), dtype=torch.float64)}\n",
       "       edata_schemes={'C-C': Scheme(shape=(), dtype=torch.int64)}))"
      ]
     },
     "execution_count": 2,
     "metadata": {},
     "output_type": "execute_result"
    }
   ],
   "source": [
    "files = os.listdir('pdb')\n",
    "ids = [f.split('-model_')[0] for f in files]\n",
    "files = [os.path.join('pdb',f) for f in files]\n",
    "\n",
    "file = files[0]\n",
    "id = ids[0]\n",
    "\n",
    "chains = load_pdb(p,id,file)\n",
    "g = chains_to_graph(chains)\n",
    "\n",
    "id, g"
   ]
  },
  {
   "cell_type": "code",
   "execution_count": null,
   "id": "dd69a393-1827-4895-a912-a037de521da0",
   "metadata": {},
   "outputs": [],
   "source": []
  },
  {
   "cell_type": "markdown",
   "id": "c7fea0de-112c-4832-b9de-57c615310065",
   "metadata": {},
   "source": [
    "## Try Conv\n",
    "\n",
    "https://docs.dgl.ai/en/1.1.x/api/python/nn-pytorch.html"
   ]
  },
  {
   "cell_type": "code",
   "execution_count": 3,
   "id": "bdeebeda-b1db-4722-aceb-6d7be0c9e622",
   "metadata": {},
   "outputs": [
    {
     "data": {
      "text/plain": [
       "(torch.Size([226, 3]), 226)"
      ]
     },
     "execution_count": 3,
     "metadata": {},
     "output_type": "execute_result"
    }
   ],
   "source": [
    "from dgl.nn import GraphConv\n",
    "\n",
    "\n",
    "g.ndata['coord'].size()     ,    g.num_nodes()"
   ]
  },
  {
   "cell_type": "code",
   "execution_count": 4,
   "id": "0f8b7976-9c30-4f1a-b117-7c6817c99dcb",
   "metadata": {},
   "outputs": [
    {
     "data": {
      "text/plain": [
       "torch.Size([226, 2])"
      ]
     },
     "execution_count": 4,
     "metadata": {},
     "output_type": "execute_result"
    }
   ],
   "source": [
    "feat = torch.ones(g.num_nodes(), 10)\n",
    "\n",
    "convLayer = GraphConv(10, 2, norm='both', weight=True, bias=True, allow_zero_in_degree=True)\n",
    "\n",
    "convLayer(g, feat).size()"
   ]
  },
  {
   "cell_type": "code",
   "execution_count": null,
   "id": "e5403231-9cac-4d7c-bb7f-68763984d456",
   "metadata": {},
   "outputs": [],
   "source": []
  },
  {
   "cell_type": "code",
   "execution_count": null,
   "id": "7ec5aaec-b9f7-4691-8a0b-7a1ab99e6ad9",
   "metadata": {},
   "outputs": [],
   "source": []
  },
  {
   "cell_type": "code",
   "execution_count": null,
   "id": "3d0dc229-49c3-4db9-8d4a-adf642aec6b2",
   "metadata": {},
   "outputs": [],
   "source": []
  }
 ],
 "metadata": {
  "kernelspec": {
   "display_name": "Python 3 (ipykernel)",
   "language": "python",
   "name": "python3"
  },
  "language_info": {
   "codemirror_mode": {
    "name": "ipython",
    "version": 3
   },
   "file_extension": ".py",
   "mimetype": "text/x-python",
   "name": "python",
   "nbconvert_exporter": "python",
   "pygments_lexer": "ipython3",
   "version": "3.12.1"
  }
 },
 "nbformat": 4,
 "nbformat_minor": 5
}
