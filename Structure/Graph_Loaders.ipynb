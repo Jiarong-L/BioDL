{
 "cells": [
  {
   "cell_type": "code",
   "execution_count": 1,
   "id": "c2411a7f-f944-4aaa-a0d3-bd506fb743c4",
   "metadata": {},
   "outputs": [],
   "source": [
    "import torch\n",
    "import torch.nn as nn\n",
    "import torch.nn.functional as F\n",
    "import torch_geometric\n",
    "import torch_geometric.nn as gnn\n",
    "from torch_geometric.data import Data \n",
    "\n",
    "\n",
    "import numpy as np\n",
    "import pandas as pd\n",
    "import os\n",
    "\n",
    "from rdkit import Chem\n",
    "\n",
    "from Bio.PDB.PDBParser import PDBParser\n",
    "import scipy.linalg as linalg\n",
    "import dgl\n",
    "\n",
    "p = PDBParser(PERMISSIVE=1)"
   ]
  },
  {
   "cell_type": "code",
   "execution_count": null,
   "id": "b50d56b0-f4ab-459d-bb9f-49be370d03fe",
   "metadata": {},
   "outputs": [],
   "source": []
  },
  {
   "cell_type": "markdown",
   "id": "423b414c-8cef-4c64-9a88-39ea99345842",
   "metadata": {},
   "source": [
    "## Load SMILES\n",
    "\n",
    "\n",
    "ref:  https://github.com/jacquesboitreaud/interpretGCN/blob/master/dataloading/rdkit_to_nx.py\n",
    "\n",
    "atoms: https://blog.csdn.net/dreadlesss/article/details/106306472"
   ]
  },
  {
   "cell_type": "code",
   "execution_count": 2,
   "id": "5a12927a-fa4d-4b60-935c-3a7f239d8924",
   "metadata": {},
   "outputs": [],
   "source": [
    "BOUND_TYPE_dict = dict(zip(Chem.rdchem.BondType.values.values(),Chem.rdchem.BondType.values.keys()))\n",
    "\n",
    "def one_hot(emb_len, attr_list):\n",
    "    return np.eye(emb_len)[attr_list]\n",
    "\n",
    "\n",
    "def Node_feature(atom):\n",
    "    feature_dict = {}\n",
    "    feature_dict[\"id\"] = atom.GetIdx()\n",
    "    feature_dict[\"atomic\"] = atom.GetAtomicNum()\n",
    "    feature_dict[\"symbol\"] = atom.GetSymbol()\n",
    "    feature_dict[\"aromatic\"] = 1 if atom.GetIsAromatic() else 0\n",
    "    feature_dict[\"valence\"] = atom.GetTotalValence()\n",
    "    return feature_dict\n",
    "\n",
    "def Smiles_to_mtx(Smiles):\n",
    "    mol = Chem.MolFromSmiles(Smiles)\n",
    "    mol = Chem.RemoveHs(mol)\n",
    "    num_atom = mol.GetNumAtoms()\n",
    "    mtx = np.zeros((num_atom,num_atom))   # mtx = np.diag(np.ones((num_atom,)))\n",
    "    nodes = [Node_feature(atom) for atom in mol.GetAtoms()]  # nodes = {atom.GetIdx():Node_feature(atom) for atom in mol.GetAtoms()}\n",
    "    for bond in mol.GetBonds():       ## C-C bounds\n",
    "        i = bond.GetBeginAtomIdx()\n",
    "        j = bond.GetEndAtomIdx()\n",
    "        mtx[i,j] = mtx[j,i] = BOUND_TYPE_dict[bond.GetBondType()]\n",
    "    return mtx,nodes# pd.DataFrame(mtx,index = symbol_list, columns = symbol_list)\n",
    "\n",
    "\n",
    "\n",
    "def Smiles_to_data(Smiles):  ## Each molecule as a graph: edge_index=[2, E], edge_attr=[E, embE], x=[N, embN], y=[?]\n",
    "    mol = Chem.MolFromSmiles(Smiles)\n",
    "    mol = Chem.RemoveHs(mol)\n",
    "    from_, to_, attrE = zip(*[(bond.GetBeginAtomIdx(),bond.GetEndAtomIdx(),BOUND_TYPE_dict[bond.GetBondType()]) for bond in mol.GetBonds()])\n",
    "    edge_index = torch.tensor([list(from_),list(to_)],dtype=torch.int64)\n",
    "    edge_attr = torch.tensor(one_hot(len(BOUND_TYPE_dict), list(attrE)),dtype=torch.int64)    ## embE: one-hot BOUND_TYPE\n",
    "    nodes = [Node_feature(atom) for atom in mol.GetAtoms()]\n",
    "    x = torch.tensor([[n['atomic'],n['aromatic'],n['valence']] for n in nodes],dtype=torch.float32)   ## embN\n",
    "    return Data(edge_index=edge_index, edge_attr=edge_attr, x=x)"
   ]
  },
  {
   "cell_type": "code",
   "execution_count": 3,
   "id": "cbd3220e-156a-4d7c-87ef-b8e8a45720ee",
   "metadata": {},
   "outputs": [
    {
     "data": {
      "text/plain": [
       "Data(x=[9, 3], edge_index=[2, 9], edge_attr=[9, 22])"
      ]
     },
     "execution_count": 3,
     "metadata": {},
     "output_type": "execute_result"
    }
   ],
   "source": [
    "Smiles = 'C[C@H](O)c1ccccc1'\n",
    "Smiles_to_data(Smiles)"
   ]
  },
  {
   "cell_type": "code",
   "execution_count": 4,
   "id": "0a781216-9baa-4607-8ce8-0cc7c3297c5b",
   "metadata": {},
   "outputs": [
    {
     "data": {
      "text/plain": [
       "(array([[ 0.,  1.,  0.,  0.,  0.,  0.,  0.,  0.,  0.],\n",
       "        [ 1.,  0.,  1.,  1.,  0.,  0.,  0.,  0.,  0.],\n",
       "        [ 0.,  1.,  0.,  0.,  0.,  0.,  0.,  0.,  0.],\n",
       "        [ 0.,  1.,  0.,  0., 12.,  0.,  0.,  0., 12.],\n",
       "        [ 0.,  0.,  0., 12.,  0., 12.,  0.,  0.,  0.],\n",
       "        [ 0.,  0.,  0.,  0., 12.,  0., 12.,  0.,  0.],\n",
       "        [ 0.,  0.,  0.,  0.,  0., 12.,  0., 12.,  0.],\n",
       "        [ 0.,  0.,  0.,  0.,  0.,  0., 12.,  0., 12.],\n",
       "        [ 0.,  0.,  0., 12.,  0.,  0.,  0., 12.,  0.]]),\n",
       " [{'id': 0, 'atomic': 6, 'symbol': 'C', 'aromatic': 0, 'valence': 4},\n",
       "  {'id': 1, 'atomic': 6, 'symbol': 'C', 'aromatic': 0, 'valence': 4},\n",
       "  {'id': 2, 'atomic': 8, 'symbol': 'O', 'aromatic': 0, 'valence': 2},\n",
       "  {'id': 3, 'atomic': 6, 'symbol': 'C', 'aromatic': 1, 'valence': 4},\n",
       "  {'id': 4, 'atomic': 6, 'symbol': 'C', 'aromatic': 1, 'valence': 4},\n",
       "  {'id': 5, 'atomic': 6, 'symbol': 'C', 'aromatic': 1, 'valence': 4},\n",
       "  {'id': 6, 'atomic': 6, 'symbol': 'C', 'aromatic': 1, 'valence': 4},\n",
       "  {'id': 7, 'atomic': 6, 'symbol': 'C', 'aromatic': 1, 'valence': 4},\n",
       "  {'id': 8, 'atomic': 6, 'symbol': 'C', 'aromatic': 1, 'valence': 4}])"
      ]
     },
     "execution_count": 4,
     "metadata": {},
     "output_type": "execute_result"
    }
   ],
   "source": [
    "Smiles = 'C[C@H](O)c1ccccc1'\n",
    "Smiles_to_mtx(Smiles)"
   ]
  },
  {
   "cell_type": "code",
   "execution_count": null,
   "id": "a98457e0-e367-47c4-9660-29295db5d609",
   "metadata": {},
   "outputs": [],
   "source": []
  },
  {
   "cell_type": "markdown",
   "id": "408059b4-816a-43a3-9fa0-005391439dd3",
   "metadata": {},
   "source": [
    "## Load PDB\n",
    "\n",
    "- edge: [C-C bound]\n",
    "- node: [coord,aa]\n",
    "\n",
    "or refer to: https://blog.csdn.net/C20180602_csq/article/details/138327140\n",
    "\n",
    "Todo: Let the graph fully connected, and add features to edge: [L2_distance_of_ATOM_C > ??, C-C bound]"
   ]
  },
  {
   "cell_type": "code",
   "execution_count": 5,
   "id": "283c6e3e-9854-4f29-ae2b-e62f24f3175b",
   "metadata": {},
   "outputs": [],
   "source": [
    "SHORTEN_dict= {'VAL':'V', 'ILE':'I', 'LEU':'L', 'GLU':'E', 'GLN':'Q',\n",
    "            'ASP':'D', 'ASN':'N', 'HIS':'H', 'TRP':'W', 'PHE':'F', \n",
    "            'TYR':'Y', 'ARG':'R', 'LYS':'K', 'SER':'S', 'THR':'T', \n",
    "            'MET':'M', 'ALA':'A', 'GLY':'G', 'PRO':'P', 'CYS':'C'}   ## BZJX*\n",
    "\n",
    "def load_embd_dict(AA_selc = list(''.join(SHORTEN_dict.values()) + '*'), file = \"BLOSUM62.txt\"):\n",
    "    df = pd.read_csv(\"BLOSUM62.txt\", sep=\"\\\\s+\", index_col=0)\n",
    "    df = df[AA_selc].T[AA_selc].T\n",
    "    df = df.sort_index().loc[:, df.columns.sort_values()]       ## Sort cols and rows by name\n",
    "    w, v = linalg.eigh(np.exp2(df))\n",
    "    v = v * np.sign(v[0])              ## v[:,i] is i-th eigen vector\n",
    "    v = v @ np.diag(w**0.5)            ## scale v by eigen value\n",
    "    return dict(zip(df.columns.values,v.T))\n",
    "\n",
    "EMBD_dict = load_embd_dict()\n",
    "\n",
    "def embedAA(aa):        ## embedAA('A') --> (21,)\n",
    "    if aa in SHORTEN_dict.keys():\n",
    "        return EMBD_dict[SHORTEN_dict[aa]]\n",
    "    else:\n",
    "        return EMBD_dict['*']"
   ]
  },
  {
   "cell_type": "code",
   "execution_count": 6,
   "id": "f168279f-b2a5-4c4d-8275-8aa9eeafe6e0",
   "metadata": {},
   "outputs": [],
   "source": [
    "def load_pdb(p,id,file):\n",
    "    model = p.get_structure(id, file).get_models().__next__()  ## Get the first model from the structure\n",
    "    chains = {}\n",
    "    for chain in model.get_chains():           ## Usually only one chain as: 'COMPND   3 CHAIN: A'\n",
    "        id = chain.get_id()\n",
    "        chains[id] = {\n",
    "            'aa': [],\n",
    "            'coord': []\n",
    "        }\n",
    "        for residue in chain.get_residues(): \n",
    "            aa = residue.get_resname()\n",
    "            coord = residue['C'].get_coord()\n",
    "            chains[id]['aa'].append(aa)\n",
    "            chains[id]['coord'].append(coord)\n",
    "        chains[id]['seqlen'] = len(chains[id]['aa'])\n",
    "    return chains\n",
    "\n",
    "\n",
    "def chains_to_dgl(chains):\n",
    "    g = dgl.graph([])\n",
    "    pos = 0\n",
    "    for id in chains.keys():\n",
    "        chain = chains[id]\n",
    "        start_of_chain = True\n",
    "        for (aa,coord) in zip(chain['aa'],chain['coord']):\n",
    "            g.add_nodes(1, {\n",
    "                'coord': torch.tensor(coord,dtype=torch.float32).unsqueeze(0), \n",
    "                'aa': torch.tensor(embedAA(aa),dtype=torch.float32).unsqueeze(0)\n",
    "            })\n",
    "            if start_of_chain == False:\n",
    "                g.add_edges(torch.tensor([pos-1]), torch.tensor([pos]), {\n",
    "                    'C-C': torch.tensor([1])         ## others can be S-S bonds / H bounds, closely located items, etc.  This time we don't calcuate them\n",
    "                })\n",
    "            pos += 1\n",
    "            start_of_chain = False\n",
    "    return g\n",
    "\n",
    "\n",
    "def chains_to_data_CCbound(chains):  ## Each molecule as a graph: edge_index=[2, E], edge_attr=[E, embE], x_=[N, embN], y=[?]\n",
    "    edge_index = [[],[]]\n",
    "    x_aa = []\n",
    "    x_coord = []\n",
    "    start_pos = 0\n",
    "    for id in chains.keys():\n",
    "        chain = chains[id]\n",
    "        x_aa += [embedAA(aa) for aa in chain['aa']]\n",
    "        x_coord += chain['coord']\n",
    "        edge_index[0] += [i+start_pos for i in range(chain['seqlen']-1)]\n",
    "        edge_index[1] += [i+start_pos+1 for i in range(chain['seqlen']-1)]\n",
    "        start_pos += chain['seqlen']\n",
    "    x_aa = torch.tensor(np.array(x_aa),dtype=torch.float32)\n",
    "    x_coord = torch.tensor(np.array(x_coord),dtype=torch.float32)\n",
    "    edge_index= torch.tensor(np.array(edge_index),dtype=torch.int64)    ## C-C bound\n",
    "    return Data(edge_index=edge_index, x=x_aa, x_coord=x_coord)\n",
    "\n",
    "\n",
    "def chains_to_data_L2(chains):\n",
    "    dataCC = chains_to_data_CCbound(chains)\n",
    "    x_aa = dataCC.x\n",
    "    x_coord = dataCC.x_coord\n",
    "    aa_num = dataCC.x_coord.size(0)\n",
    "    edge_index = [[],[]]\n",
    "    edge_attr = []\n",
    "    for i in range(0,aa_num-1):\n",
    "        for j in range(i+1,aa_num):\n",
    "            L2 = torch.norm(x_coord[i] - x_coord[j],p=2)\n",
    "            edge_index[0].append(i)\n",
    "            edge_index[1].append(j)\n",
    "            edge_attr.append(L2)\n",
    "    edge_index = torch.tensor(np.array(edge_index),dtype=torch.int64)\n",
    "    edge_attr = torch.tensor(np.array(edge_attr),dtype=torch.float32)\n",
    "    select = edge_attr < edge_attr[0] * 1.5             ## < 1.5 * Distance of the 1st neighboring C-C pairs\n",
    "    return Data(edge_index=edge_index[:,select], edge_attr=edge_attr[select], x=x_aa)\n"
   ]
  },
  {
   "cell_type": "code",
   "execution_count": 7,
   "id": "71ee81d1-c1eb-427f-a749-451f4905526c",
   "metadata": {},
   "outputs": [
    {
     "data": {
      "text/plain": [
       "(Data(x=[128, 21], edge_index=[2, 127], x_coord=[128, 3]),\n",
       " Data(x=[128, 21], edge_index=[2, 159], edge_attr=[159]),\n",
       " Graph(num_nodes=128, num_edges=127,\n",
       "       ndata_schemes={'coord': Scheme(shape=(3,), dtype=torch.float32), 'aa': Scheme(shape=(21,), dtype=torch.float32)}\n",
       "       edata_schemes={'C-C': Scheme(shape=(), dtype=torch.int64)}))"
      ]
     },
     "execution_count": 7,
     "metadata": {},
     "output_type": "execute_result"
    }
   ],
   "source": [
    "files = os.listdir('pdb')\n",
    "ids = [f.split('-model_')[0] for f in files]\n",
    "files = [os.path.join('pdb',f) for f in files]\n",
    "\n",
    "file = files[0]\n",
    "id = ids[0]\n",
    "\n",
    "chains = load_pdb(p,id,file)\n",
    "chains_to_data_CCbound(chains), chains_to_data_L2(chains), chains_to_dgl(chains)"
   ]
  },
  {
   "cell_type": "code",
   "execution_count": 8,
   "id": "a9a01a71-5bbe-4cc1-a5a8-0541854ccf90",
   "metadata": {},
   "outputs": [
    {
     "data": {
      "text/plain": [
       "(torch.Size([128, 21]), torch.Size([128, 2]))"
      ]
     },
     "execution_count": 8,
     "metadata": {},
     "output_type": "execute_result"
    }
   ],
   "source": [
    "## Try Conv\n",
    "from dgl.nn import GraphConv\n",
    "\n",
    "g = chains_to_dgl(chains)\n",
    "\n",
    "\n",
    "convLayer = GraphConv(in_feats = 21, out_feats = 2, norm='both', weight=True, bias=True, allow_zero_in_degree=True)\n",
    "feat = g.ndata['aa']\n",
    "\n",
    "feat.size(), convLayer(g, feat).size()"
   ]
  },
  {
   "cell_type": "code",
   "execution_count": null,
   "id": "add1da84-6ea8-484b-9d3e-6fdfcb29d108",
   "metadata": {},
   "outputs": [],
   "source": []
  }
 ],
 "metadata": {
  "kernelspec": {
   "display_name": "Python 3 (ipykernel)",
   "language": "python",
   "name": "python3"
  },
  "language_info": {
   "codemirror_mode": {
    "name": "ipython",
    "version": 3
   },
   "file_extension": ".py",
   "mimetype": "text/x-python",
   "name": "python",
   "nbconvert_exporter": "python",
   "pygments_lexer": "ipython3",
   "version": "3.12.1"
  }
 },
 "nbformat": 4,
 "nbformat_minor": 5
}
